{
 "cells": [
  {
   "cell_type": "markdown",
   "metadata": {},
   "source": [
    "# <center>introduction of machine learning by Hung-yi Lee</center>"
   ]
  },
  {
   "cell_type": "markdown",
   "metadata": {},
   "source": [
    "## 什么是机器学习？\n",
    "\n",
    "* 机器学习的比较流行的较严格的定义：\n",
    ">computer program is said to learn from experience E with respect to some class of tasks T and performance measure P, if its performance at tasks in T, as measured by P, improves with experience E.                 \n",
    "\n",
    "   也就是说机器能通过以往的学习获得经验，从而提高此类任务的表现。             \n",
    "   \n",
    "\n",
    "* 机器学习的感性定义（intuitive）：机器学习其实是一种算法，这种算法通过海量数据，获得输入与输出的近似的映射关系，从而在新的输入上能够获得满意的输出。与传统算法不同的是，机器学习通过喂给程序数据（`data`)和答案(`answer`)，程序输出的是数据和答案的映射关系（`rule`）。而传统算法则是喂给程序映射规则和数据，输出答案。下图是李宏毅老师给出的机器学习值观解释的图片。\n",
    "\n",
    "![what_is_ML](ML_pic/what_is_ML.PNG)\n",
    "   <center>机器学习就是学习一个复杂的函数<center>\n",
    "____\n",
    "___"
   ]
  },
  {
   "cell_type": "markdown",
   "metadata": {},
   "source": [
    "\n",
    "\n",
    "## 机器学习的框架\n",
    "\n",
    "* 模型和相应的函数空间             \n",
    "我的理解：和许多传统的算法一样，一个问题可以用不同的方法解决，因此在使用机器学习是也需要选则一个合理的机器学习模型，模型的选择和个人对机器学习的理解以及经验有关，需要多多在实践中积累。而一个模型中有许多参数需要确定，最简单的如曲线的二次方拟合，需要有 3 个 参数来确定。每一组参数确定了这个模型下的一个函数，整个参数空间上的所有状态就确定了这个模型下的所有函数，及函数空间。       \n",
    " \n",
    " \n",
    "* 机器学习的基本流程                  \n",
    "![ML_framework](ML_pic/fw.PNG)\n",
    "\n",
    "   这是一个迭代的过程，不是一次就能成功的，上面的每一个过程都会对最终的学习函数（learner）产生影响。\n",
    "\n",
    "   \n",
    "\n",
    "     看下图。\n",
    "\n",
    "   \n",
    "\n",
    "   \n",
    "\n",
    "   ![ML_framework](ML_pic/ML_framework.PNG)\n",
    "   ___\n",
    "   ___"
   ]
  },
  {
   "cell_type": "markdown",
   "metadata": {},
   "source": [
    "## case study\n",
    "\n",
    "### pokemon 的线性回归模型（详细背景见slides）\n",
    "\n",
    "\n",
    "#### Step 1 : Build a Linear Model：\n",
    "\n",
    "$$y=b+\\sum w_{i} x_{i}\\\\                   \n",
    "     w_i:weights \\quad b: bias  $$            \n",
    "                            \n",
    "                            \n",
    "#### Step 2 : Construct a Goodness of Function\n",
    "\n",
    "**Loss Function**:   $$\\begin{equation}\n",
    "\\mathrm{L}(w, b)=\\sum_{n=1}^{10}\\left(\\hat{y}^{n}-\\left(b+w \\cdot x^{n}\\right)\\right)^{2}\n",
    "\\end{equation}$$\n",
    "\n",
    "<center>$\\hat y^n$ 为 true value， $x$ 为 features，$w$为 parameter space</center>\n",
    "\n",
    "\n",
    "#### Step 3 :Using Gradient Descent to Compute the Best Function\n",
    "\n",
    "![bestfunction](ML_pic/bestfunction.PNG)\n",
    "\n",
    "在训练集上找到损失函数的最小值参数（优化问题,通常找不到***全局最优解***）\n",
    "\n",
    "* randomly pick an initial value $\\omega^0$(事实上为了防止梯度消失和爆炸，加快学习速度，参数的初始值需要得到控制)             \n",
    "\n",
    "* compute $\\left.\\frac{d L}{d w}\\right|_{w=w^{0}}$\n",
    "* select proper learning rate ***$\\eta$*** and iteration number(***epoch***)to update parameters\n",
    "![GradientDescent](ML_pic\\GradientDescent.PNG)\n",
    "![GradientDescent](ML_pic\\GradientDescent2.PNG)\n",
    "___\n",
    "___"
   ]
  },
  {
   "cell_type": "markdown",
   "metadata": {},
   "source": [
    "### Overfitting\n",
    "\n",
    "- What we really care about are errors or accuracies on test set(new data that we haven't seen in training set), not on training set.  Therefore the better performance on training set doesn't mean we have trained a good model to generalize new inputs. The following picture illustrate the relationship between different models.\n",
    "\n",
    "  ![model_select](ML_pic\\model_select.PNG)\n",
    "\n",
    "- resolve overfitting: **Regularization**\n",
    "\n",
    "  what is the mean when we speak regularization? My understanding is to get a smoother and well generalized fitting, we need reduce a complex model to a simple one. Thus people using many  approaches like $L_0, L_1, L_2$ to reduce parameters to 0 or small number so we can find important hidden factors and improve the performance on test set.\n",
    "\n",
    "  Why don't we select a simple model in advance? That is `we don't know what important factors are in advance`. Therefore we consider various factors and using regularization to find by machine **itself**.\n",
    "\n",
    "  - $L_0$ : the number of non-zero parameters(really hard to optimize)\n",
    "\n",
    "  - $L_1$ : the sum of magnitude of parameters(hard to optimize due to non-differentiable )\n",
    "\n",
    "    ![L1re](ML_pic\\L1re.PNG)\n",
    "\n",
    "  - $L_2$ :  euclidean distances(most popular and easiest)\n",
    "\n",
    "![L2re](ML_pic\\L2re.PNG)\n",
    "\n",
    "\n",
    "\n",
    "___\n",
    "___"
   ]
  },
  {
   "cell_type": "markdown",
   "metadata": {},
   "source": [
    "### 梯度下降算法优化的重要性\n",
    "使用单纯的梯度下降可导致算法不收敛或者收敛很慢，需要运用梯度以外的信息，比如基于 Hession Matrix 动态调整各个参数的学习速率，以获得良好的精度和速度。\n",
    "可以参考： https://www.deeplearningbook.org/contents/numerical.html\n",
    "下面是Adagrad的简单示范（视频里的例子）"
   ]
  },
  {
   "cell_type": "code",
   "execution_count": 24,
   "metadata": {},
   "outputs": [
    {
     "name": "stdout",
     "output_type": "stream",
     "text": [
      "Mini point: b = -188.3668387495323 w = 2.6692640713379903\n"
     ]
    },
    {
     "data": {
      "image/png": "[encoded data removed]",
      "text/plain": [
       "<Figure size 432x288 with 1 Axes>"
      ]
     },
     "metadata": {
      "needs_background": "light"
     },
     "output_type": "display_data"
    }
   ],
   "source": [
    "import numpy as np\n",
    "import matplotlib.pyplot as plt\n",
    "%matplotlib inline\n",
    "\n",
    "x_data=[338, 333, 328, 207, 226, 25, 179, 60, 208, 606]\n",
    "y_data=[640, 633, 619, 393, 428, 27, 193, 66, 226, 1591]\n",
    "\n",
    "## 损失函数等高线图\n",
    "space_w  =  np.arange(-5,5,0.1)\n",
    "space_b  =  np.arange(-200,-100,1)\n",
    "space_B,space_W = np.meshgrid(space_b,space_w)\n",
    "\n",
    "loss = np.zeros_like(space_W)\n",
    "\n",
    "for i in range(len(x_data)): \n",
    "        loss += (y_data[i] - space_W * x_data[i] - space_B)**2\n",
    "loss /= len(x_data)\n",
    "\n",
    "\n",
    "b=-120\n",
    "w=-4\n",
    "lr=1                \n",
    "iteration=100000    \n",
    "\n",
    "b_history=[b]       \n",
    "w_history=[w]       \n",
    "\n",
    "lr_b=0\n",
    "lr_w=0\n",
    "\n",
    "for i in range(iteration):\n",
    "    \n",
    "    b_grad=0.0  \n",
    "    w_grad=0.0  \n",
    "\n",
    "    for n in range(len(x_data)):\n",
    "\n",
    "        b_grad = b_grad -2.0*(y_data[n] - b - w*x_data[n])\n",
    "\n",
    "        w_grad = w_grad -2.0*(y_data[n] - b - w*x_data[n])*x_data[n]\n",
    "\n",
    "    lr_b = lr_b + b_grad **2\n",
    "    lr_w = lr_w + w_grad **2\n",
    "\n",
    "    b = b - lr/np.sqrt(lr_b)*b_grad # Adagrad\n",
    "    w = w - lr/np.sqrt(lr_w)*w_grad\n",
    "\n",
    "    \n",
    "\n",
    "    b_history.append(b)\n",
    "    w_history.append(w)\n",
    "\n",
    "## plot figure\n",
    "plt.contourf(space_B,space_W,loss,50,alpha=0.5, cmap=plt.get_cmap('jet'))\n",
    "print(\"Mini point: b =\",b_history[-1],\"w =\",w_history[-1])\n",
    "plt.plot(b_history, w_history, 'ro')\n",
    "plt.xlabel(r'$b$', fontsize=16)\n",
    "plt.ylabel(r'$w$', fontsize=16)\n",
    "plt.show()"
   ]
  }
 ],
 "metadata": {
  "kernelspec": {
   "display_name": "Python 3",
   "language": "python",
   "name": "python3"
  },
  "language_info": {
   "codemirror_mode": {
    "name": "ipython",
    "version": 3
   },
   "file_extension": ".py",
   "mimetype": "text/x-python",
   "name": "python",
   "nbconvert_exporter": "python",
   "pygments_lexer": "ipython3",
   "version": "3.7.1"
  }
 },
 "nbformat": 4,
 "nbformat_minor": 2
}
